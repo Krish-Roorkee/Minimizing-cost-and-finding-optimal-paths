{
  "cells": [
    {
      "cell_type": "markdown",
      "metadata": {
        "id": "view-in-github",
        "colab_type": "text"
      },
      "source": [
        "<a href=\"https://colab.research.google.com/github/Krish-Roorkee/Minimizing-cost-and-finding-optimal-paths/blob/main/rx.ipynb\" target=\"_parent\"><img src=\"https://colab.research.google.com/assets/colab-badge.svg\" alt=\"Open In Colab\"/></a>"
      ]
    },
    {
      "cell_type": "code",
      "execution_count": 2,
      "metadata": {
        "id": "iIC_MXF7VyvP"
      },
      "outputs": [],
      "source": [
        "import numpy as np\n",
        "from scipy.optimize import minimize"
      ]
    },
    {
      "cell_type": "code",
      "source": [
        "pip install pyswarms"
      ],
      "metadata": {
        "id": "zLNQTT9j7wnt"
      },
      "execution_count": 28,
      "outputs": []
    },
    {
      "cell_type": "code",
      "execution_count": 4,
      "metadata": {
        "id": "feXjVYR_TsNk"
      },
      "outputs": [],
      "source": [
        "import pyswarms as ps"
      ]
    },
    {
      "cell_type": "code",
      "execution_count": 5,
      "metadata": {
        "id": "EhGkWazXV1NC"
      },
      "outputs": [],
      "source": [
        "n_truck = 3;\n",
        "n_nodes = 3;\n",
        "W = np.array([n_truck, n_nodes, 3,10],dtype=np.int32);\n"
      ]
    },
    {
      "cell_type": "code",
      "source": [
        "def obj(W, initPos, distMat, reqLoads):\n",
        " C_l = 1;\n",
        " C_d = 1/100;\n",
        " speed = 40;\n",
        " cost = 0;\n",
        " load_status = np.zeros((n_nodes, 12));\n",
        " for t in range(n_truck):\n",
        "  distanceTravelled = 0;\n",
        "  time = 0;\n",
        "  current_P = initPos[t];\n",
        " for p in W[t]:\n",
        "  time += p[0];\n",
        "  load_status[int(current_P)%n_nodes][int(time)%12] += np.floor(p[1]);\n",
        "  distanceTravelled += distMat[int(current_P)%n_nodes][int(p[2])%n_nodes];\n",
        "  time += distMat[int(current_P)%n_nodes][int(p[2])%n_nodes]/speed;\n",
        "  current_P = p[2];\n",
        "  cost += distanceTravelled * C_d;\n",
        " for i in range(n_nodes):\n",
        "  for h in range(12):\n",
        "   cost += C_l*(np.square((reqLoads[i][h] - load_status[i][h])));\n",
        " return cost;"
      ],
      "metadata": {
        "id": "WwrGdEyygw-N"
      },
      "execution_count": 6,
      "outputs": []
    },
    {
      "cell_type": "code",
      "source": [
        "distMat = [[0, 100, 200],\n",
        "           [100, 0, 240],\n",
        "           [200, 240, 0]];\n",
        "initPos = [0, 1, 2];\n",
        "reqLoads = [[0, 0, 0, 0, 5, 0, 0, 0, 0, 0, 0, 0],\n",
        "            [0, -10, 0, 0, 0, 0, 0, 0, 0, 0, 0, 0],\n",
        "            [0, 0, 0, 0, 0, 0, 5, 0, 0, 0, 0, 0]];"
      ],
      "metadata": {
        "id": "V_jynrNj7mpq"
      },
      "execution_count": 7,
      "outputs": []
    },
    {
      "cell_type": "code",
      "source": [
        "def g(w):\n",
        "  W = np.zeros((n_truck, n_nodes, 3));\n",
        "  for i in range(n_truck*n_nodes*3):\n",
        "    x = i%n_truck;\n",
        "    y = (i%n_truck)%n_nodes;\n",
        "    z = ((i%n_truck)%n_nodes)%3;\n",
        "    W[x][y][z] = w[i];\n",
        "  return obj(W, initPos, distMat, reqLoads);"
      ],
      "metadata": {
        "id": "zRzJuhcF9dlr"
      },
      "execution_count": 8,
      "outputs": []
    },
    {
      "cell_type": "code",
      "source": [
        "import scipy as sp;"
      ],
      "metadata": {
        "id": "JQQK-KMS9mi0"
      },
      "execution_count": 9,
      "outputs": []
    },
    {
      "cell_type": "code",
      "source": [
        "'''\n",
        "options = {'c1': 0.5, 'c2': 0.3, 'w':0.9}\n",
        "\n",
        "optimizer = ps.single.GlobalBestPSO(n_particles=1000, dimensions=27, options=options)\n",
        "def f(wp):\n",
        "  wp = np.abs(wp)*100;\n",
        "  return np.array([g(w) for w in wp]);\n",
        "\n",
        "cost, pos = optimizer.optimize(f, iters=1000)\n",
        "'''"
      ],
      "metadata": {
        "id": "WuGy6MK_-d78"
      },
      "execution_count": null,
      "outputs": []
    },
    {
      "cell_type": "code",
      "source": [
        "initPos = np.random.randint(0, n_nodes, size=(n_truck,))"
      ],
      "metadata": {
        "id": "9fBoXhp0_iL5"
      },
      "execution_count": 17,
      "outputs": []
    },
    {
      "cell_type": "code",
      "source": [
        "!pip install pyswarm\n"
      ],
      "metadata": {
        "colab": {
          "base_uri": "https://localhost:8080/"
        },
        "id": "q2LUUOLirknW",
        "outputId": "265bcd84-c439-49ce-b45e-7d21ece18959"
      },
      "execution_count": 26,
      "outputs": [
        {
          "output_type": "stream",
          "name": "stdout",
          "text": [
            "Requirement already satisfied: pyswarm in /usr/local/lib/python3.10/dist-packages (0.6)\n",
            "Requirement already satisfied: numpy in /usr/local/lib/python3.10/dist-packages (from pyswarm) (1.23.5)\n"
          ]
        }
      ]
    },
    {
      "cell_type": "code",
      "source": [
        "from pyswarm import pso\n",
        "initPos = np.random.randint(0, n_nodes, size=(n_truck,))\n",
        "def objective_function(position):\n",
        "    W = np.reshape(position, (n_truck, -1, 3))\n",
        "    cost = obj(W, initPos, distMat, reqLoads)\n",
        "    return cost\n",
        "lb = np.zeros(n_truck * len(initPos) * 3)\n",
        "ub = np.ones(n_truck * len(initPos) * 3)\n",
        "best_position, min_cost = pso(objective_function, lb, ub)\n",
        "optimal_path = np.reshape(best_position, (n_truck, -1, 3))\n",
        "print(\"Optimal Path:\")\n",
        "print(optimal_path)\n",
        "print(\"Minimum Cost:\", min_cost)\n",
        "\n",
        "\n"
      ],
      "metadata": {
        "colab": {
          "base_uri": "https://localhost:8080/"
        },
        "id": "Vzp64w_Joxjj",
        "outputId": "d8ec32b6-9b48-4d0d-f882-5c6a50fdda6c"
      },
      "execution_count": 24,
      "outputs": [
        {
          "output_type": "stream",
          "name": "stdout",
          "text": [
            "Stopping search: maximum iterations reached --> 100\n",
            "Optimal Path:\n",
            "[[[0.50686144 0.7134811  0.4903842 ]\n",
            "  [0.83137104 0.49539951 0.91294196]\n",
            "  [0.0560529  0.23950466 0.86304325]]\n",
            "\n",
            " [[0.1983311  0.99108652 0.40642848]\n",
            "  [0.29033686 0.13558895 0.1450957 ]\n",
            "  [0.08460199 0.58115647 0.02293404]]\n",
            "\n",
            " [[0.4777408  0.4093589  0.23416357]\n",
            "  [0.40882981 0.21613003 0.28160356]\n",
            "  [0.14536852 0.51416488 0.683921  ]]]\n",
            "Minimum Cost: 150.0\n"
          ]
        }
      ]
    },
    {
      "cell_type": "code",
      "source": [],
      "metadata": {
        "id": "rJjgShDNrb17"
      },
      "execution_count": null,
      "outputs": []
    }
  ],
  "metadata": {
    "colab": {
      "provenance": [],
      "include_colab_link": true
    },
    "kernelspec": {
      "display_name": "Python 3",
      "name": "python3"
    },
    "language_info": {
      "name": "python"
    }
  },
  "nbformat": 4,
  "nbformat_minor": 0
}