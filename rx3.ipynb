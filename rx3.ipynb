{
  "cells": [
    {
      "cell_type": "markdown",
      "metadata": {
        "id": "view-in-github",
        "colab_type": "text"
      },
      "source": [
        "<a href=\"https://colab.research.google.com/github/Krish-Roorkee/Sustainable-Delivery-Optimization-/blob/main/rx3.ipynb\" target=\"_parent\"><img src=\"https://colab.research.google.com/assets/colab-badge.svg\" alt=\"Open In Colab\"/></a>"
      ]
    },
    {
      "cell_type": "code",
      "execution_count": 1,
      "metadata": {
        "id": "iIC_MXF7VyvP"
      },
      "outputs": [],
      "source": [
        "import numpy as np"
      ]
    },
    {
      "cell_type": "code",
      "execution_count": 2,
      "metadata": {
        "id": "feXjVYR_TsNk",
        "colab": {
          "base_uri": "https://localhost:8080/"
        },
        "outputId": "1c6ecb4c-2d7d-4302-d796-337c7762ba6a"
      },
      "outputs": [
        {
          "output_type": "stream",
          "name": "stdout",
          "text": [
            "Collecting pyswarms\n",
            "  Downloading pyswarms-1.3.0-py2.py3-none-any.whl (104 kB)\n",
            "\u001b[?25l     \u001b[90m━━━━━━━━━━━━━━━━━━━━━━━━━━━━━━━━━━━━━━━━\u001b[0m \u001b[32m0.0/104.1 kB\u001b[0m \u001b[31m?\u001b[0m eta \u001b[36m-:--:--\u001b[0m\r\u001b[2K     \u001b[91m━━━━━━━━━━━━━━━━━━━━━━━━━━━━━━━━━━━━━━━\u001b[0m\u001b[90m╺\u001b[0m \u001b[32m102.4/104.1 kB\u001b[0m \u001b[31m3.1 MB/s\u001b[0m eta \u001b[36m0:00:01\u001b[0m\r\u001b[2K     \u001b[90m━━━━━━━━━━━━━━━━━━━━━━━━━━━━━━━━━━━━━━━━\u001b[0m \u001b[32m104.1/104.1 kB\u001b[0m \u001b[31m2.4 MB/s\u001b[0m eta \u001b[36m0:00:00\u001b[0m\n",
            "\u001b[?25hRequirement already satisfied: scipy in /usr/local/lib/python3.10/dist-packages (from pyswarms) (1.11.3)\n",
            "Requirement already satisfied: numpy in /usr/local/lib/python3.10/dist-packages (from pyswarms) (1.23.5)\n",
            "Requirement already satisfied: matplotlib>=1.3.1 in /usr/local/lib/python3.10/dist-packages (from pyswarms) (3.7.1)\n",
            "Requirement already satisfied: attrs in /usr/local/lib/python3.10/dist-packages (from pyswarms) (23.1.0)\n",
            "Requirement already satisfied: tqdm in /usr/local/lib/python3.10/dist-packages (from pyswarms) (4.66.1)\n",
            "Requirement already satisfied: future in /usr/local/lib/python3.10/dist-packages (from pyswarms) (0.18.3)\n",
            "Requirement already satisfied: pyyaml in /usr/local/lib/python3.10/dist-packages (from pyswarms) (6.0.1)\n",
            "Requirement already satisfied: contourpy>=1.0.1 in /usr/local/lib/python3.10/dist-packages (from matplotlib>=1.3.1->pyswarms) (1.2.0)\n",
            "Requirement already satisfied: cycler>=0.10 in /usr/local/lib/python3.10/dist-packages (from matplotlib>=1.3.1->pyswarms) (0.12.1)\n",
            "Requirement already satisfied: fonttools>=4.22.0 in /usr/local/lib/python3.10/dist-packages (from matplotlib>=1.3.1->pyswarms) (4.44.3)\n",
            "Requirement already satisfied: kiwisolver>=1.0.1 in /usr/local/lib/python3.10/dist-packages (from matplotlib>=1.3.1->pyswarms) (1.4.5)\n",
            "Requirement already satisfied: packaging>=20.0 in /usr/local/lib/python3.10/dist-packages (from matplotlib>=1.3.1->pyswarms) (23.2)\n",
            "Requirement already satisfied: pillow>=6.2.0 in /usr/local/lib/python3.10/dist-packages (from matplotlib>=1.3.1->pyswarms) (9.4.0)\n",
            "Requirement already satisfied: pyparsing>=2.3.1 in /usr/local/lib/python3.10/dist-packages (from matplotlib>=1.3.1->pyswarms) (3.1.1)\n",
            "Requirement already satisfied: python-dateutil>=2.7 in /usr/local/lib/python3.10/dist-packages (from matplotlib>=1.3.1->pyswarms) (2.8.2)\n",
            "Requirement already satisfied: six>=1.5 in /usr/local/lib/python3.10/dist-packages (from python-dateutil>=2.7->matplotlib>=1.3.1->pyswarms) (1.16.0)\n",
            "Installing collected packages: pyswarms\n",
            "Successfully installed pyswarms-1.3.0\n"
          ]
        }
      ],
      "source": [
        "!pip install pyswarms\n",
        "import pyswarms as ps"
      ]
    },
    {
      "cell_type": "code",
      "source": [
        "nodes = 3;\n",
        "\n",
        "def obj(WW, initPos, initTimeSpent, initLoading, distMat, reqLoads):\n",
        "  load_status = np.zeros((nodes, 5));\n",
        "  speed = 1000;\n",
        "  charge_rate = 10;\n",
        "  discharge_rate = 1/10000;\n",
        "  cap = 5;\n",
        "  Cl = 10;\n",
        "  Cd = 1/100;\n",
        "  initTimeSpent = np.abs(initTimeSpent);\n",
        "  initLoading = initLoading.astype(int);\n",
        "  cost = 0;\n",
        "  for k in range(len(WW)):\n",
        "    W = WW[k];\n",
        "    checkpoints = np.abs(W[0]).astype(int);\n",
        "    checkpoints = np.mod(checkpoints, 3);\n",
        "    loading = W[1].astype(int);\n",
        "    timeSpent = np.abs(W[2]);\n",
        "    time = 0;\n",
        "    distance = 0;\n",
        "    load = 0;\n",
        "    charge = 1;\n",
        "    pos = initPos[k];\n",
        "    if(int(time)<5):\n",
        "      load_status[pos][int(time)] += initLoading[k];\n",
        "      load -= initLoading[k];\n",
        "    else:\n",
        "      cost += 1000*(time-5);\n",
        "\n",
        "    time += initTimeSpent[k];\n",
        "\n",
        "    for n in range(len(checkpoints)):\n",
        "      if(load>cap):\n",
        "        cost += 10000*(load-cap);\n",
        "      elif(load<0):\n",
        "        cost -= 1000*load;\n",
        "      distance += distMat[pos][checkpoints[n]];\n",
        "      time += distMat[pos][checkpoints[n]]/speed;\n",
        "      charge -= distMat[pos][checkpoints[n]]*discharge_rate;\n",
        "      if(charge<0):\n",
        "        cost -= 5000*charge;\n",
        "      pos = checkpoints[n];\n",
        "      if(int(time)<5):\n",
        "        load_status[pos][int(time)] += loading[n];\n",
        "        load -= loading[n];\n",
        "      else:\n",
        "        cost += 1000*(time-5);\n",
        "      time += timeSpent[n];\n",
        "      charge += timeSpent[n]*charge_rate;\n",
        "    if(load>cap):\n",
        "        cost += 10000*(load-cap);\n",
        "    elif(load<0):\n",
        "      cost -= 1000*load;\n",
        "    cost += Cd*distance;\n",
        "  cost += Cl*np.sum(np.square(reqLoads - load_status), axis=None);\n",
        "  return cost;"
      ],
      "metadata": {
        "id": "WwrGdEyygw-N"
      },
      "execution_count": 3,
      "outputs": []
    },
    {
      "cell_type": "code",
      "source": [
        "distMat = [[0, 100, 200],\n",
        "           [100, 0, 150],\n",
        "           [200, 150, 0]];\n",
        "reqLoads = [[-10, 0, 0, 0, 0],\n",
        "            [0, 0, 0, 2, 0],\n",
        "            [0, 6, 0, 0, 2]];\n",
        "initPos = [0, 2];\n",
        "m = 2;\n",
        "def g(w):\n",
        "  initLoading = w[0:m];\n",
        "  initTimeSpent = np.abs(w[m:2*m]);\n",
        "  w = w[2*m:]\n",
        "  w = np.reshape(w, (m, 3, 6));\n",
        "  return obj(w, initPos, initTimeSpent, initLoading, distMat, reqLoads);\n",
        "\n",
        "\n"
      ],
      "metadata": {
        "id": "fBCMwBAgDuCT"
      },
      "execution_count": null,
      "outputs": []
    },
    {
      "cell_type": "code",
      "source": [
        "def f(W):\n",
        "  return np.array([g(w) for w in W]);\n",
        "\n",
        "# Set-up hyperparameters\n",
        "options = {'c1': 0.2, 'c2': 0.9, 'w': 0.9}\n",
        "\n",
        "# Call instance of PSO\n",
        "optimizer = ps.single.GlobalBestPSO(n_particles=1000, dimensions=m*18 + 2*m, options=options)\n",
        "\n",
        "# Perform optimization\n",
        "cost, pos = optimizer.optimize(f, iters=1000)"
      ],
      "metadata": {
        "colab": {
          "base_uri": "https://localhost:8080/"
        },
        "id": "st8GMaf0HZKD",
        "outputId": "503410a2-dddc-4914-dbc7-a758bef545a8"
      },
      "execution_count": null,
      "outputs": [
        {
          "output_type": "stream",
          "name": "stderr",
          "text": [
            "2023-11-30 10:37:39,748 - pyswarms.single.global_best - INFO - Optimize for 1000 iters with {'c1': 0.2, 'c2': 0.9, 'w': 0.9}\n",
            "pyswarms.single.global_best: 100%|██████████|1000/1000, best_cost=9\n",
            "2023-11-30 10:38:44,288 - pyswarms.single.global_best - INFO - Optimization finished | best cost: 9.0, best pos: [ 0.40850534  0.4234294  -0.15952907  0.54368159 -0.18709118  0.90075834\n",
            "  2.53491863 -5.33337061  2.81166859  2.30127427 -2.49518659 -3.53719267\n",
            "  2.91444219  3.04805197 -0.34983784 -0.21479649  0.6991146  -0.27893253\n",
            "  0.26154098  1.72180611  0.90913278 -4.7124667   0.3490396   0.30720375\n",
            "  2.956625    1.37154268  1.09611679 -2.31166024 -2.38509514 -3.70594992\n",
            "  1.3160427  -0.01646558  2.89251243  2.74667394  0.04220646 -0.26191177\n",
            " -0.03102778 -2.39303425 -0.36164273 -1.84518334]\n"
          ]
        }
      ]
    },
    {
      "cell_type": "code",
      "source": [
        "def objV(WW, initPos, initTimeSpent, initLoading, distMat, reqLoads):\n",
        "  load_status = np.zeros((nodes, 5));\n",
        "  speed = 1000;\n",
        "  cap = 5;\n",
        "  Cl = 1;\n",
        "  Cd = 1/100;\n",
        "  initTimeSpent = np.abs(initTimeSpent);\n",
        "  initLoading = initLoading.astype(int);\n",
        "  cost = 0;\n",
        "  for k in range(len(WW)):\n",
        "    W = WW[k];\n",
        "    checkpoints = np.abs(W[0]).astype(int);\n",
        "    checkpoints = np.mod(checkpoints, 3);\n",
        "    WW[k][0] = checkpoints;\n",
        "    loading = W[1].astype(int);\n",
        "    WW[k][1] = loading;\n",
        "    timeSpent = np.abs(W[2]);\n",
        "    WW[k][2] = timeSpent;\n",
        "    time = 0;\n",
        "    distance = 0;\n",
        "    load = 0;\n",
        "    pos = initPos[k];\n",
        "    if(int(time)<5):\n",
        "      load_status[pos][int(time)] += initLoading[k];\n",
        "      load -= initLoading[k];\n",
        "    time += initTimeSpent[k];\n",
        "\n",
        "    for n in range(len(checkpoints)):\n",
        "      if(load>cap):\n",
        "        cost += 10000*(load-cap);\n",
        "      distance += distMat[pos][checkpoints[n]];\n",
        "      time += distMat[pos][checkpoints[n]]/speed;\n",
        "      pos = checkpoints[n];\n",
        "      if(int(time)<5):\n",
        "        load_status[pos][int(time)] += loading[n];\n",
        "        load -= loading[n];\n",
        "      time += timeSpent[n];\n",
        "  return load_status, initLoading, initTimeSpent, WW;\n",
        "\n",
        "def gV(w):\n",
        "  initLoading = w[0:m];\n",
        "  initTimeSpent = np.abs(w[m:2*m]);\n",
        "  w = w[2*m:]\n",
        "  w = np.reshape(w, (m, 3, 6));\n",
        "  return objV(w, initPos, initTimeSpent, initLoading, distMat, reqLoads);"
      ],
      "metadata": {
        "id": "C2E8myFwMBuL"
      },
      "execution_count": null,
      "outputs": []
    },
    {
      "cell_type": "code",
      "source": [
        "gV(pos)"
      ],
      "metadata": {
        "colab": {
          "base_uri": "https://localhost:8080/"
        },
        "id": "2zi4YGd7FSGK",
        "outputId": "ab27e3d2-c9df-4922-fd4e-560fdccbce9a"
      },
      "execution_count": null,
      "outputs": [
        {
          "output_type": "execute_result",
          "data": {
            "text/plain": [
              "(array([[-10.,   0.,   0.,   0.,   0.],\n",
              "        [  0.,   0.,   0.,   2.,   0.],\n",
              "        [  0.,   6.,   0.,   0.,   2.]]),\n",
              " array([0, 0]),\n",
              " array([0.15952907, 0.54368159]),\n",
              " array([[[ 0.        ,  0.        ,  2.        ,  2.        ,\n",
              "           2.        ,  2.        ],\n",
              "         [-2.        , -3.        ,  2.        ,  3.        ,\n",
              "           0.        ,  0.        ],\n",
              "         [ 0.6991146 ,  0.27893253,  0.26154098,  1.72180611,\n",
              "           0.90913278,  4.7124667 ]],\n",
              " \n",
              "        [[ 0.        ,  0.        ,  2.        ,  1.        ,\n",
              "           1.        ,  2.        ],\n",
              "         [-2.        , -3.        ,  1.        ,  0.        ,\n",
              "           2.        ,  2.        ],\n",
              "         [ 0.04220646,  0.26191177,  0.03102778,  2.39303425,\n",
              "           0.36164273,  1.84518334]]]))"
            ]
          },
          "metadata": {},
          "execution_count": 22
        }
      ]
    },
    {
      "cell_type": "code",
      "source": [],
      "metadata": {
        "id": "5IgKJnlFFVlH"
      },
      "execution_count": null,
      "outputs": []
    }
  ],
  "metadata": {
    "colab": {
      "provenance": [],
      "include_colab_link": true
    },
    "kernelspec": {
      "display_name": "Python 3",
      "name": "python3"
    },
    "language_info": {
      "name": "python"
    }
  },
  "nbformat": 4,
  "nbformat_minor": 0
}