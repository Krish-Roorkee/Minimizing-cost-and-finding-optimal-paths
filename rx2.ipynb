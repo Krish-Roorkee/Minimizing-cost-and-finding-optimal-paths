{
  "cells": [
    {
      "cell_type": "markdown",
      "metadata": {
        "id": "view-in-github",
        "colab_type": "text"
      },
      "source": [
        "<a href=\"https://colab.research.google.com/github/Krish-Roorkee/Minimizing-cost-and-finding-optimal-paths/blob/main/rx2.ipynb\" target=\"_parent\"><img src=\"https://colab.research.google.com/assets/colab-badge.svg\" alt=\"Open In Colab\"/></a>"
      ]
    },
    {
      "cell_type": "code",
      "execution_count": null,
      "metadata": {
        "id": "iIC_MXF7VyvP"
      },
      "outputs": [],
      "source": [
        "import numpy as np"
      ]
    },
    {
      "cell_type": "code",
      "execution_count": null,
      "metadata": {
        "id": "feXjVYR_TsNk"
      },
      "outputs": [],
      "source": [
        "!pip install pyswarms\n",
        "import pyswarms as ps"
      ]
    },
    {
      "cell_type": "code",
      "source": [
        "nodes = 3;\n",
        "\n",
        "def obj(WW, initPos, initTimeSpent, initLoading, distMat, reqLoads):\n",
        "  load_status = np.zeros((nodes, 5));\n",
        "  speed = 1000;\n",
        "  cap = 5;\n",
        "  Cl = 1;\n",
        "  Cd = 1/100;\n",
        "  initTimeSpent = np.abs(initTimeSpent);\n",
        "  cost = 0;\n",
        "  for k in range(len(WW)):\n",
        "    W = WW[k];\n",
        "    checkpoints = np.abs(W[0]).astype(int);\n",
        "    checkpoints = np.mod(checkpoints, 3);\n",
        "    loading = W[1];\n",
        "    timeSpent = np.abs(W[2]);\n",
        "    time = 0;\n",
        "    distance = 0;\n",
        "    load = 0;\n",
        "    pos = initPos[k];\n",
        "    if(int(time)<5):\n",
        "      load_status[pos][int(time)] += initLoading[k];\n",
        "      load -= initLoading[k];\n",
        "    else:\n",
        "      cost += 1000*(time-5);\n",
        "    time += initTimeSpent[k];\n",
        "\n",
        "    for n in range(len(checkpoints)):\n",
        "      if(load>cap):\n",
        "        cost += 10000*(load-cap);\n",
        "      distance += distMat[pos][checkpoints[n]];\n",
        "      time += distMat[pos][checkpoints[n]]/speed;\n",
        "      pos = checkpoints[n];\n",
        "      if(int(time)<5):\n",
        "        load_status[pos][int(time)] += loading[n];\n",
        "        load -= loading[n];\n",
        "      else:\n",
        "        cost += 1000*(time-5);\n",
        "      time += timeSpent[n];\n",
        "    cost += Cd*distance;\n",
        "  cost += Cl*np.sum(np.square(reqLoads - load_status), axis=None);\n",
        "  return cost;"
      ],
      "metadata": {
        "id": "WwrGdEyygw-N"
      },
      "execution_count": null,
      "outputs": []
    },
    {
      "cell_type": "code",
      "source": [
        "distMat = [[0, 100, 200],\n",
        "           [100, 0, 150],\n",
        "           [200, 150, 0]];\n",
        "reqLoads = [[-10, 0, 0, 0, 0],\n",
        "            [0, 0, 0, 2, 0],\n",
        "            [0, 6, 0, 0, 2]];\n",
        "initPos = [0, 2];\n",
        "m = 2;\n",
        "def g(w):\n",
        "  initLoading = w[0:m];\n",
        "  initTimeSpent = np.abs(w[m:2*m]);\n",
        "  w = w[2*m:]\n",
        "  w = np.reshape(w, (m, 3, 6));\n",
        "  return obj(w, initPos, initTimeSpent, initLoading, distMat, reqLoads);\n",
        "\n",
        "\n"
      ],
      "metadata": {
        "id": "fBCMwBAgDuCT"
      },
      "execution_count": null,
      "outputs": []
    },
    {
      "cell_type": "code",
      "source": [
        "def f(W):\n",
        "  return np.array([g(w) for w in W]);\n",
        "\n",
        "# Set-up hyperparameters\n",
        "options = {'c1': 0.2, 'c2': 0.9, 'w': 0.9}\n",
        "\n",
        "# Call instance of PSO\n",
        "optimizer = ps.single.GlobalBestPSO(n_particles=1000, dimensions=m*18 + 2*m, options=options)\n",
        "\n",
        "# Perform optimization\n",
        "cost, pos = optimizer.optimize(f, iters=1000)"
      ],
      "metadata": {
        "id": "st8GMaf0HZKD"
      },
      "execution_count": null,
      "outputs": []
    },
    {
      "cell_type": "code",
      "source": [
        "def objV(WW, initPos, initTimeSpent, initLoading, distMat, reqLoads):\n",
        "  load_status = np.zeros((nodes, 5));\n",
        "  speed = 1000;\n",
        "  cap = 5;\n",
        "  Cl = 1;\n",
        "  Cd = 1/100;\n",
        "  initTimeSpent = np.abs(initTimeSpent);\n",
        "  cost = 0;\n",
        "  for k in range(len(WW)):\n",
        "    W = WW[k];\n",
        "    checkpoints = np.abs(W[0]).astype(int);\n",
        "    checkpoints = np.mod(checkpoints, 3);\n",
        "    loading = W[1];\n",
        "    timeSpent = np.abs(W[2]);\n",
        "    time = 0;\n",
        "    distance = 0;\n",
        "    load = 0;\n",
        "    pos = initPos[k];\n",
        "    if(int(time)<5):\n",
        "      load_status[pos][int(time)] += initLoading[k];\n",
        "      load -= initLoading[k];\n",
        "    else:\n",
        "      cost += 1000*(time-5);\n",
        "    time += initTimeSpent[k];\n",
        "\n",
        "    for n in range(len(checkpoints)):\n",
        "      if(load>cap):\n",
        "        cost += 10000*(load-cap);\n",
        "      distance += distMat[pos][checkpoints[n]];\n",
        "      time += distMat[pos][checkpoints[n]]/speed;\n",
        "      pos = checkpoints[n];\n",
        "      if(int(time)<5):\n",
        "        load_status[pos][int(time)] += loading[n];\n",
        "        load -= loading[n];\n",
        "      else:\n",
        "        cost += 1000*(time-5);\n",
        "      time += timeSpent[n];\n",
        "    cost += Cd*distance;\n",
        "  cost += Cl*np.sum(np.square(reqLoads - load_status), axis=None);\n",
        "  return cost, load_status;\n",
        "\n",
        "def gV(w):\n",
        "  initLoading = w[0:m];\n",
        "  initTimeSpent = np.abs(w[m:2*m]);\n",
        "  w = w[2*m:]\n",
        "  w = np.reshape(w, (m, 3, 6));\n",
        "  return objV(w, initPos, initTimeSpent, initLoading, distMat, reqLoads);"
      ],
      "metadata": {
        "id": "C2E8myFwMBuL"
      },
      "execution_count": null,
      "outputs": []
    },
    {
      "cell_type": "code",
      "source": [
        "gV(pos)"
      ],
      "metadata": {
        "id": "YQy4Es4kMXzf"
      },
      "execution_count": null,
      "outputs": []
    },
    {
      "cell_type": "code",
      "source": [],
      "metadata": {
        "id": "KFTU6KGwq4ml"
      },
      "execution_count": null,
      "outputs": []
    }
  ],
  "metadata": {
    "colab": {
      "provenance": [],
      "include_colab_link": true
    },
    "kernelspec": {
      "display_name": "Python 3",
      "name": "python3"
    },
    "language_info": {
      "name": "python"
    }
  },
  "nbformat": 4,
  "nbformat_minor": 0
}